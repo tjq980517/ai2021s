{
 "cells": [
  {
   "cell_type": "markdown",
   "metadata": {},
   "source": [
    "# 作业1：Numpy练习"
   ]
  },
  {
   "cell_type": "markdown",
   "metadata": {},
   "source": [
    "本次作业主要对Python中的矩阵运算库Numpy进行练习。如遇到不清楚的函数或主题，可以查阅[官方文档](https://numpy.org/doc/stable/user/index.html)或利用搜索引擎寻求帮助。"
   ]
  },
  {
   "cell_type": "markdown",
   "metadata": {},
   "source": [
    "### 基础知识"
   ]
  },
  {
   "cell_type": "markdown",
   "metadata": {},
   "source": [
    "本节对Numpy进行简要介绍，没有实际的题目，可直接运行每一个单元格。"
   ]
  },
  {
   "cell_type": "markdown",
   "metadata": {},
   "source": [
    "首先导入Numpy包："
   ]
  },
  {
   "cell_type": "code",
   "execution_count": 1,
   "metadata": {},
   "outputs": [],
   "source": [
    "import numpy as np"
   ]
  },
  {
   "cell_type": "markdown",
   "metadata": {},
   "source": [
    "利用Numpy可以方便地创建向量和矩阵："
   ]
  },
  {
   "cell_type": "code",
   "execution_count": 2,
   "metadata": {},
   "outputs": [
    {
     "name": "stdout",
     "output_type": "stream",
     "text": [
      "[1. 2. 5.]\n"
     ]
    }
   ],
   "source": [
    "vec = np.array([1.0, 2.0, 5.0])\n",
    "print(vec)"
   ]
  },
  {
   "cell_type": "code",
   "execution_count": 3,
   "metadata": {},
   "outputs": [
    {
     "name": "stdout",
     "output_type": "stream",
     "text": [
      "[[1.  2.  2. ]\n",
      " [3.  5.  4.5]]\n"
     ]
    }
   ],
   "source": [
    "mat = np.array([[1.0, 2.0, 2.0], [3.0, 5.0, 4.5]])\n",
    "print(mat)"
   ]
  },
  {
   "cell_type": "code",
   "execution_count": 4,
   "metadata": {},
   "outputs": [
    {
     "name": "stdout",
     "output_type": "stream",
     "text": [
      "[1.         1.36363636 1.72727273 2.09090909 2.45454545 2.81818182\n",
      " 3.18181818 3.54545455 3.90909091 4.27272727 4.63636364 5.        ]\n"
     ]
    }
   ],
   "source": [
    "vec = np.linspace(start=1.0, stop=5.0, num=12)\n",
    "print(vec)"
   ]
  },
  {
   "cell_type": "code",
   "execution_count": 5,
   "metadata": {
    "scrolled": true
   },
   "outputs": [
    {
     "name": "stdout",
     "output_type": "stream",
     "text": [
      "[[1.         1.36363636 1.72727273 2.09090909]\n",
      " [2.45454545 2.81818182 3.18181818 3.54545455]\n",
      " [3.90909091 4.27272727 4.63636364 5.        ]]\n"
     ]
    }
   ],
   "source": [
    "mat = np.reshape(vec, (3, 4))\n",
    "print(mat)"
   ]
  },
  {
   "cell_type": "markdown",
   "metadata": {},
   "source": [
    "Python中下标是从0开始的，请一定要记住这一点，否则会造成很多逻辑错误。"
   ]
  },
  {
   "cell_type": "code",
   "execution_count": 6,
   "metadata": {},
   "outputs": [
    {
     "name": "stdout",
     "output_type": "stream",
     "text": [
      "1.0\n",
      "1.7272727272727273\n",
      "2.8181818181818183\n"
     ]
    }
   ],
   "source": [
    "print(vec[0])\n",
    "print(vec[2])\n",
    "print(mat[1, 1])"
   ]
  },
  {
   "cell_type": "markdown",
   "metadata": {},
   "source": [
    "负数的下标表示从尾部往前数："
   ]
  },
  {
   "cell_type": "code",
   "execution_count": 7,
   "metadata": {},
   "outputs": [
    {
     "name": "stdout",
     "output_type": "stream",
     "text": [
      "5.0\n",
      "4.636363636363637\n",
      "3.5454545454545454\n"
     ]
    }
   ],
   "source": [
    "print(vec[-1])\n",
    "print(vec[-2])\n",
    "print(mat[1, -1])"
   ]
  },
  {
   "cell_type": "markdown",
   "metadata": {},
   "source": [
    "可以用冒号选取向量中的一段范围，格式为`x[start:end]`，选出的元素包含`x[start]`，不包含`x[end]`。"
   ]
  },
  {
   "cell_type": "code",
   "execution_count": 8,
   "metadata": {},
   "outputs": [
    {
     "name": "stdout",
     "output_type": "stream",
     "text": [
      "[1.36363636 1.72727273]\n"
     ]
    }
   ],
   "source": [
    "print(vec[1:3])"
   ]
  },
  {
   "cell_type": "code",
   "execution_count": 9,
   "metadata": {},
   "outputs": [
    {
     "name": "stdout",
     "output_type": "stream",
     "text": [
      "[[1.         1.36363636]\n",
      " [2.45454545 2.81818182]\n",
      " [3.90909091 4.27272727]]\n"
     ]
    }
   ],
   "source": [
    "print(mat[:, :2])"
   ]
  },
  {
   "cell_type": "markdown",
   "metadata": {},
   "source": [
    "在编写函数时，经常需要各种测试数据，此时可以用Numpy来生成各类随机数。在需要用到随机数之前，一定要先设置随机数种子，以使结果可重复。"
   ]
  },
  {
   "cell_type": "code",
   "execution_count": 12,
   "metadata": {},
   "outputs": [],
   "source": [
    "np.random.seed(123)"
   ]
  },
  {
   "cell_type": "markdown",
   "metadata": {},
   "source": [
    "生成均匀分布随机数："
   ]
  },
  {
   "cell_type": "code",
   "execution_count": 13,
   "metadata": {},
   "outputs": [
    {
     "name": "stdout",
     "output_type": "stream",
     "text": [
      "[0.69646919 0.28613933 0.22685145 0.55131477 0.71946897]\n"
     ]
    }
   ],
   "source": [
    "unif = np.random.uniform(low=0.0, high=1.0, size=5)\n",
    "print(unif)"
   ]
  },
  {
   "cell_type": "markdown",
   "metadata": {},
   "source": [
    "正态分布随机数："
   ]
  },
  {
   "cell_type": "code",
   "execution_count": 14,
   "metadata": {},
   "outputs": [
    {
     "name": "stdout",
     "output_type": "stream",
     "text": [
      "[[ 0.32210607 -0.05151772 -0.20420096  1.97934843 -1.61930007]\n",
      " [-1.11396442 -0.44744072  1.66840161 -0.14337247 -0.6191909 ]]\n"
     ]
    }
   ],
   "source": [
    "norm = np.random.normal(loc=0.0, scale=1.0, size=(2, 5))\n",
    "print(norm)"
   ]
  },
  {
   "cell_type": "markdown",
   "metadata": {},
   "source": [
    "Numpy提供了许多数学函数对向量和矩阵进行操作："
   ]
  },
  {
   "cell_type": "code",
   "execution_count": 15,
   "metadata": {},
   "outputs": [
    {
     "name": "stdout",
     "output_type": "stream",
     "text": [
      "[[1.38003115 0.94978682 0.81529851 7.23802539 0.19803726]\n",
      " [0.32825504 0.63926211 5.30368367 0.86643129 0.53837986]]\n"
     ]
    }
   ],
   "source": [
    "print(np.exp(norm))"
   ]
  },
  {
   "cell_type": "code",
   "execution_count": 16,
   "metadata": {},
   "outputs": [
    {
     "name": "stdout",
     "output_type": "stream",
     "text": [
      "[-0.36173173 -1.2512764  -1.48345987 -0.59544936 -0.32924188]\n"
     ]
    }
   ],
   "source": [
    "print(np.log(unif))"
   ]
  },
  {
   "cell_type": "markdown",
   "metadata": {},
   "source": [
    "也可以对向量和矩阵进行汇总："
   ]
  },
  {
   "cell_type": "code",
   "execution_count": 17,
   "metadata": {},
   "outputs": [
    {
     "data": {
      "text/plain": [
       "2.4802437129808985"
      ]
     },
     "execution_count": 17,
     "metadata": {},
     "output_type": "execute_result"
    }
   ],
   "source": [
    "np.sum(unif)"
   ]
  },
  {
   "cell_type": "markdown",
   "metadata": {},
   "source": [
    "汇总可以按行或者按列进行，这由`axis`参数决定。0表示运算时第一个维度（行）在变化，1表示运算时第二个维度（列）在变化。\n",
    "再次提醒，Python中以0表示第一个元素！"
   ]
  },
  {
   "cell_type": "code",
   "execution_count": 18,
   "metadata": {},
   "outputs": [
    {
     "data": {
      "text/plain": [
       "-0.02291311494411293"
      ]
     },
     "execution_count": 18,
     "metadata": {},
     "output_type": "execute_result"
    }
   ],
   "source": [
    "np.mean(norm)"
   ]
  },
  {
   "cell_type": "code",
   "execution_count": 19,
   "metadata": {},
   "outputs": [
    {
     "data": {
      "text/plain": [
       "array([-0.39592917, -0.24947922,  0.73210032,  0.91798798, -1.11924548])"
      ]
     },
     "execution_count": 19,
     "metadata": {},
     "output_type": "execute_result"
    }
   ],
   "source": [
    "np.mean(norm, axis=0)  # 对第一个维度（行标在变化）求均值"
   ]
  },
  {
   "cell_type": "code",
   "execution_count": 20,
   "metadata": {},
   "outputs": [
    {
     "data": {
      "text/plain": [
       "array([1.33033757, 0.90853666])"
      ]
     },
     "execution_count": 20,
     "metadata": {},
     "output_type": "execute_result"
    }
   ],
   "source": [
    "np.var(norm, axis=1)  # 对第二个维度（列标在变化）求方差"
   ]
  },
  {
   "cell_type": "markdown",
   "metadata": {},
   "source": [
    "### 第1题"
   ]
  },
  {
   "cell_type": "markdown",
   "metadata": {},
   "source": [
    "(a) 生成10000个服从(0, 1)间均匀分布的随机数，赋值给变量`x`，并打印其**前10个**元素。"
   ]
  },
  {
   "cell_type": "code",
   "execution_count": 5,
   "metadata": {},
   "outputs": [
    {
     "name": "stdout",
     "output_type": "stream",
     "text": [
      "[0.24669055 0.79207787 0.5159146  0.70487041 0.72188353 0.81310282\n",
      " 0.17248156 0.52332824 0.49476265 0.80510688]\n"
     ]
    }
   ],
   "source": [
    "import numpy as np\n",
    "x=np.random.uniform(low=0.0,high=1.0,size=10000)\n",
    "print(x[:10])"
   ]
  },
  {
   "cell_type": "markdown",
   "metadata": {},
   "source": [
    "(b) 创建向量`y`，令其在数学上等于`y=-log(x)`，其中`log`为自然对数。打印`y`的**最后10个**元素。"
   ]
  },
  {
   "cell_type": "code",
   "execution_count": 6,
   "metadata": {},
   "outputs": [
    {
     "name": "stdout",
     "output_type": "stream",
     "text": [
      "[0.01101185 2.04027115 1.53545057 2.30316642 0.58726986 0.32321407\n",
      " 0.41524283 1.64931077 0.84317192 0.20138109]\n"
     ]
    }
   ],
   "source": [
    "y=-np.log(x)\n",
    "print(y[-10:])"
   ]
  },
  {
   "cell_type": "markdown",
   "metadata": {},
   "source": [
    "(c) 查找在Python中绘制图形的方法，绘制`y`的直方图。"
   ]
  },
  {
   "cell_type": "code",
   "execution_count": 7,
   "metadata": {},
   "outputs": [
    {
     "data": {
      "text/plain": [
       "(array([6.701e+03, 2.180e+03, 7.360e+02, 2.470e+02, 9.300e+01, 3.200e+01,\n",
       "        8.000e+00, 2.000e+00, 0.000e+00, 1.000e+00]),\n",
       " array([7.40567883e-06, 1.09419182e+00, 2.18837622e+00, 3.28256063e+00,\n",
       "        4.37674504e+00, 5.47092945e+00, 6.56511386e+00, 7.65929827e+00,\n",
       "        8.75348268e+00, 9.84766709e+00, 1.09418515e+01]),\n",
       " <a list of 10 Patch objects>)"
      ]
     },
     "execution_count": 7,
     "metadata": {},
     "output_type": "execute_result"
    },
    {
     "data": {
      "image/png": "[encoded data removed]",
      "text/plain": [
       "<Figure size 432x288 with 1 Axes>"
      ]
     },
     "metadata": {
      "needs_background": "light"
     },
     "output_type": "display_data"
    }
   ],
   "source": [
    "import matplotlib.pyplot as plt\n",
    "plt.hist(y)"
   ]
  },
  {
   "cell_type": "markdown",
   "metadata": {},
   "source": [
    "(d) 猜测或证明`y`服从什么分布，并简要说明理由。"
   ]
  },
  {
   "cell_type": "markdown",
   "metadata": {},
   "source": [
    "Y服从指数分布\n",
    "∵X~U[0,1]\n",
    "f(x)=1,0<x<1\n",
    "y=-log(x),x=-exp(y)\n",
    "∴f(y)=-exp(y)\n",
    "∴y服从参数为1的指数分布"
   ]
  },
  {
   "cell_type": "markdown",
   "metadata": {},
   "source": [
    "### 第2题"
   ]
  },
  {
   "cell_type": "markdown",
   "metadata": {},
   "source": [
    "(a) 考虑Sigmoid函数 $$\\sigma(x)=\\frac{e^x}{1+e^x}$$\n",
    "\n",
    "请在Python中编写一个函数`sigmoid(x)`，令其可以接收一个向量`x`，返回Sigmoid函数在`x`上的取值。"
   ]
  },
  {
   "cell_type": "code",
   "execution_count": 8,
   "metadata": {},
   "outputs": [
    {
     "data": {
      "text/plain": [
       "array([0.73105858, 0.88079708])"
      ]
     },
     "execution_count": 8,
     "metadata": {},
     "output_type": "execute_result"
    }
   ],
   "source": [
    "def sigmoid(x):\n",
    "    return np.exp(x)/(1+np.exp(x))\n",
    "x = np.array([1,2])\n",
    "sigmoid(x)"
   ]
  },
  {
   "cell_type": "markdown",
   "metadata": {},
   "source": [
    "(b) 创建向量`x`，使其包含元素-1000, -100, -10, 0, 10, 100, 1000。在`x`上调用上面编写的函数，返回的结果是什么？是否出现警告或错误？"
   ]
  },
  {
   "cell_type": "code",
   "execution_count": 9,
   "metadata": {},
   "outputs": [
    {
     "name": "stderr",
     "output_type": "stream",
     "text": [
      "<ipython-input-8-f9ab8da6504e>:2: RuntimeWarning: overflow encountered in exp\n",
      "  return np.exp(x)/(1+np.exp(x))\n",
      "<ipython-input-8-f9ab8da6504e>:2: RuntimeWarning: invalid value encountered in true_divide\n",
      "  return np.exp(x)/(1+np.exp(x))\n"
     ]
    },
    {
     "data": {
      "text/plain": [
       "array([0.00000000e+00, 3.72007598e-44, 4.53978687e-05, 5.00000000e-01,\n",
       "       9.99954602e-01, 1.00000000e+00,            nan])"
      ]
     },
     "execution_count": 9,
     "metadata": {},
     "output_type": "execute_result"
    }
   ],
   "source": [
    "x = np.array([-1000,-100,-10,0,10,100,1000])\n",
    "sigmoid(x)"
   ]
  },
  {
   "cell_type": "markdown",
   "metadata": {},
   "source": [
    "(c) 如果出现警告或错误，思考可能的原因是什么。（提示：Sigmoid函数真实的取值范围是多少？分子和分母的取值范围又是什么？是否可以对Sigmoid函数的表达式进行某种等价变换？）如果一切正常，可忽略此问题。"
   ]
  },
  {
   "cell_type": "code",
   "execution_count": 10,
   "metadata": {},
   "outputs": [
    {
     "ename": "SyntaxError",
     "evalue": "invalid character in identifier (<ipython-input-10-d72fb52a9341>, line 2)",
     "output_type": "error",
     "traceback": [
      "\u001b[1;36m  File \u001b[1;32m\"<ipython-input-10-d72fb52a9341>\"\u001b[1;36m, line \u001b[1;32m2\u001b[0m\n\u001b[1;33m    numpy数组x中可能有绝对值比较大的负数，导致exp(-x)值过大，溢出。\u001b[0m\n\u001b[1;37m                              ^\u001b[0m\n\u001b[1;31mSyntaxError\u001b[0m\u001b[1;31m:\u001b[0m invalid character in identifier\n"
     ]
    }
   ],
   "source": [
    "指数函数溢出\n",
    "numpy数组x中可能有绝对值比较大的负数，导致exp(-x)值过大，溢出。\n",
    "sigmoid函数真实的取值范围是(0,1)\n",
    "分子和分母的取值范围均为(0,+无穷)\n",
    "当exp(-x)<1时，使用np.exp(x)/(1+np.exp(x))\n",
    "当exp(-x)≥1时，使用1/(1+np.exp(-x))"
   ]
  },
  {
   "cell_type": "markdown",
   "metadata": {},
   "source": [
    "(d) 请再次尝试编写`sigmoid(x)`函数，使其在给定的数据上顺利计算结果。可在网上搜索相关主题寻求帮助，但需给出来源。如果之前一切正常，可忽略此问题。"
   ]
  },
  {
   "cell_type": "code",
   "execution_count": 11,
   "metadata": {},
   "outputs": [
    {
     "data": {
      "text/plain": [
       "array([0.00000000e+00, 3.72007598e-44, 4.53978687e-05, 5.00000000e-01,\n",
       "       9.99954602e-01, 1.00000000e+00, 1.00000000e+00])"
      ]
     },
     "execution_count": 11,
     "metadata": {},
     "output_type": "execute_result"
    }
   ],
   "source": [
    "def sigmoid(x):\n",
    "    x_ravel = x.ravel()  # 将numpy数组转换为一维数组，不产生数据源的副本\n",
    "    length = len(x_ravel)\n",
    "    y = []\n",
    "    for index in range(length):\n",
    "        if x_ravel[index] >= 0:\n",
    "            y.append(1/(1+np.exp(-x_ravel[index])))\n",
    "        else:\n",
    "            y.append(np.exp(x_ravel[index])/(1+np.exp(x_ravel[index])))\n",
    "    return np.array(y).reshape(x.shape)\n",
    "#来源：python黑洞网 https://www.pythonheidong.com/blog/article/409614/7621b818f7f6a911cca0/\n",
    "x = np.array([-1000,-100,-10,0,10,100,1000])\n",
    "sigmoid(x)"
   ]
  },
  {
   "cell_type": "markdown",
   "metadata": {},
   "source": [
    "### 第3题"
   ]
  },
  {
   "cell_type": "markdown",
   "metadata": {},
   "source": [
    "(a) 考虑Softplus函数 $$\\mathrm{softplus}(x)=\\log(1+e^x)$$\n",
    "\n",
    "请在Python中编写一个函数`softplus(x)`，令其可以接收一个向量`x`，返回Softplus函数在`x`上的取值。"
   ]
  },
  {
   "cell_type": "code",
   "execution_count": 12,
   "metadata": {},
   "outputs": [],
   "source": [
    "def softplus(x):\n",
    "    return np.log(1+np.exp(x))"
   ]
  },
  {
   "cell_type": "markdown",
   "metadata": {},
   "source": [
    "(b) 创建向量`x`，使其包含元素-1000, -100, -10, 0, 10, 100, 1000。在`x`上调用上面编写的函数，返回的结果是什么？是否出现警告或错误？"
   ]
  },
  {
   "cell_type": "code",
   "execution_count": 13,
   "metadata": {},
   "outputs": [
    {
     "name": "stderr",
     "output_type": "stream",
     "text": [
      "<ipython-input-12-57c121eb77c1>:2: RuntimeWarning: overflow encountered in exp\n",
      "  return np.log(1+np.exp(x))\n"
     ]
    },
    {
     "data": {
      "text/plain": [
       "array([0.00000000e+00, 0.00000000e+00, 4.53988992e-05, 6.93147181e-01,\n",
       "       1.00000454e+01, 1.00000000e+02,            inf])"
      ]
     },
     "execution_count": 13,
     "metadata": {},
     "output_type": "execute_result"
    }
   ],
   "source": [
    "x = np.array([-1000,-100,-10,0,10,100,1000])\n",
    "softplus(x)"
   ]
  },
  {
   "cell_type": "markdown",
   "metadata": {},
   "source": [
    "(c) 如果出现警告或错误，参照第2题的方法，思考可能的原因是什么。如果一切正常，可忽略此问题。"
   ]
  },
  {
   "cell_type": "code",
   "execution_count": 1,
   "metadata": {},
   "outputs": [
    {
     "ename": "SyntaxError",
     "evalue": "invalid character in identifier (<ipython-input-1-a4e29e60751a>, line 1)",
     "output_type": "error",
     "traceback": [
      "\u001b[1;36m  File \u001b[1;32m\"<ipython-input-1-a4e29e60751a>\"\u001b[1;36m, line \u001b[1;32m1\u001b[0m\n\u001b[1;33m    当x为正且绝对值很大时，会出现溢出。\u001b[0m\n\u001b[1;37m                     ^\u001b[0m\n\u001b[1;31mSyntaxError\u001b[0m\u001b[1;31m:\u001b[0m invalid character in identifier\n"
     ]
    }
   ],
   "source": [
    "当x为正且绝对值很大时，会出现溢出。"
   ]
  },
  {
   "cell_type": "markdown",
   "metadata": {},
   "source": [
    "(d) 请再次尝试编写`softplus(x)`函数，使其在给定的数据上顺利计算结果。可在网上搜索相关主题寻求帮助，但需给出来源。如果之前一切正常，可忽略此问题。"
   ]
  },
  {
   "cell_type": "code",
   "execution_count": 15,
   "metadata": {},
   "outputs": [
    {
     "data": {
      "text/plain": [
       "array([0.00000000e+00, 0.00000000e+00, 4.53988992e-05, 6.93147181e-01,\n",
       "       1.00000454e+01, 1.00000000e+02, 1.00000000e+03])"
      ]
     },
     "execution_count": 15,
     "metadata": {},
     "output_type": "execute_result"
    }
   ],
   "source": [
    "def softplus(x):\n",
    "    x_ravel = x.ravel()\n",
    "    length = len(x_ravel)\n",
    "    y = []\n",
    "    for index in range(length):\n",
    "        if x_ravel[index] > 100:\n",
    "            y.append(np.log(1+np.exp(-x_ravel[index]))+x_ravel[index])\n",
    "        else:\n",
    "            y.append(np.log(1+np.exp(x_ravel[index])))\n",
    "    return np.array(y).reshape(x.shape)\n",
    "x = np.array([-1000,-100,-10,0,10,100,1000])\n",
    "softplus(x)\n",
    "#来源：npython中文网 https://www.cnpython.com/qa/141326\n",
    "#当x很大时，根据中心极限定理，log(1+exp(x))近似于x"
   ]
  },
  {
   "cell_type": "markdown",
   "metadata": {},
   "source": [
    "来源：npython中文网 https://www.cnpython.com/qa/141326\n",
    "当x很大时，根据中心极限定理，log(1+exp(x))近似于x"
   ]
  },
  {
   "cell_type": "markdown",
   "metadata": {},
   "source": [
    "$a^b$"
   ]
  },
  {
   "cell_type": "code",
   "execution_count": null,
   "metadata": {},
   "outputs": [],
   "source": []
  }
 ],
 "metadata": {
  "kernelspec": {
   "display_name": "Python 3",
   "language": "python",
   "name": "python3"
  },
  "language_info": {
   "codemirror_mode": {
    "name": "ipython",
    "version": 3
   },
   "file_extension": ".py",
   "mimetype": "text/x-python",
   "name": "python",
   "nbconvert_exporter": "python",
   "pygments_lexer": "ipython3",
   "version": "3.8.3"
  }
 },
 "nbformat": 4,
 "nbformat_minor": 4
}
